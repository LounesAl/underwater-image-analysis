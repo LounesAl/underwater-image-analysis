{
 "cells": [
  {
   "cell_type": "code",
   "execution_count": 1,
   "metadata": {},
   "outputs": [],
   "source": [
    "import numpy as np\n",
    "import pickle\n",
    "import cv2"
   ]
  },
  {
   "cell_type": "code",
   "execution_count": 3,
   "metadata": {},
   "outputs": [],
   "source": [
    "mtx0 = np.array([[936.33696472,   0.        , 614.70026792],\n",
    "                 [  0.        , 940.48690607, 324.3100667 ],\n",
    "                 [  0.        ,   0.        ,   1.        ]])\n",
    "\n",
    "mtx1 = np.array([[1.40338287e+03, 0.00000000e+00, 8.23978654e+02],\n",
    "                 [0.00000000e+00, 1.36075117e+03, 1.81336100e+02],\n",
    "                 [0.00000000e+00, 0.00000000e+00, 1.00000000e+00]])\n",
    "\n",
    "R = np.array([[ 0.9889639 ,  0.14572227,  0.02674749],\n",
    "              [-0.1342602 ,  0.80513959,  0.57768888],\n",
    "              [ 0.06264667, -0.57490457,  0.81581869]])\n",
    "\n",
    "T = np.array([[-30.3484974 ],\n",
    "              [-14.70076729],\n",
    "              [ 25.45162356]])\n"
   ]
  },
  {
   "cell_type": "code",
   "execution_count": 4,
   "metadata": {},
   "outputs": [],
   "source": [
    "import pickle\n",
    "\n",
    "# Create a dictionary\n",
    "data = {\"mtx0\": mtx0, \"mtx1\": mtx1, \"R\": R, \"T\": T}"
   ]
  },
  {
   "cell_type": "code",
   "execution_count": 10,
   "metadata": {},
   "outputs": [],
   "source": [
    "# Open a file to save the dictionary\n",
    "with open(\"data.pkl\", \"wb\") as f:\n",
    "    # Save the dictionary to the file\n",
    "    pickle.dump({\"mtx0\": mtx0, \"mtx1\": mtx1, \"R\": R, \"T\": T}, f)"
   ]
  },
  {
   "cell_type": "code",
   "execution_count": 10,
   "metadata": {},
   "outputs": [],
   "source": [
    "# Open the file containing the saved dictionary\n",
    "with open(r\"C:\\Users\\Brani\\OneDrive\\Bureau\\GitHub\\underwater-image-analysis\\stereo_calibration\\camera_parameters\\stereo_params.pkl\", \"rb\") as f:\n",
    "    # Load the dictionary from the file\n",
    "    loaded_data = pickle.load(f)"
   ]
  },
  {
   "cell_type": "code",
   "execution_count": 11,
   "metadata": {},
   "outputs": [
    {
     "data": {
      "text/plain": [
       "array([[936.33696472,   0.        , 614.70026792],\n",
       "       [  0.        , 940.48690607, 324.3100667 ],\n",
       "       [  0.        ,   0.        ,   1.        ]])"
      ]
     },
     "execution_count": 11,
     "metadata": {},
     "output_type": "execute_result"
    }
   ],
   "source": [
    "# Print the loaded data\n",
    "loaded_data[\"mtx0\"]"
   ]
  },
  {
   "cell_type": "code",
   "execution_count": 9,
   "metadata": {},
   "outputs": [
    {
     "data": {
      "text/plain": [
       "numpy.ndarray"
      ]
     },
     "execution_count": 9,
     "metadata": {},
     "output_type": "execute_result"
    }
   ],
   "source": [
    "type(loaded_data[\"mtx0\"])"
   ]
  },
  {
   "cell_type": "code",
   "execution_count": null,
   "metadata": {},
   "outputs": [],
   "source": []
  }
 ],
 "metadata": {
  "kernelspec": {
   "display_name": "detectron_env",
   "language": "python",
   "name": "python3"
  },
  "language_info": {
   "codemirror_mode": {
    "name": "ipython",
    "version": 3
   },
   "file_extension": ".py",
   "mimetype": "text/x-python",
   "name": "python",
   "nbconvert_exporter": "python",
   "pygments_lexer": "ipython3",
   "version": "3.8.15"
  },
  "orig_nbformat": 4,
  "vscode": {
   "interpreter": {
    "hash": "44ee9c52a03924fb821a4ca7cb273a96d56031a2b17aeb6c46b0e17d8e92b26b"
   }
  }
 },
 "nbformat": 4,
 "nbformat_minor": 2
}
