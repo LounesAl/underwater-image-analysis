{
 "cells": [
  {
   "cell_type": "code",
   "execution_count": 1,
   "metadata": {},
   "outputs": [],
   "source": [
    "import matplotlib.pyplot as plt\n",
    "import numpy as np\n",
    "import cv2 as cv "
   ]
  },
  {
   "cell_type": "code",
   "execution_count": null,
   "metadata": {},
   "outputs": [],
   "source": [
    "uvs1 = [[458, 86], [451, 164], [287, 181],\n",
    "        [196, 383], [297, 444], [564, 194],\n",
    "        [562, 375], [596, 520], [329, 620],\n",
    "        [488, 622], [432, 52], [489, 56]]\n",
    " \n",
    "uvs2 = [[540, 311], [603, 359], [542, 378],\n",
    "        [525, 507], [485, 542], [691, 352],\n",
    "        [752, 488], [711, 605], [549, 651],\n",
    "        [651, 663], [526, 293], [542, 290]]"
   ]
  },
  {
   "cell_type": "code",
   "execution_count": null,
   "metadata": {},
   "outputs": [],
   "source": [
    "uvs1 = np.array(uvs1)\n",
    "uvs2 = np.array(uvs2)"
   ]
  },
  {
   "cell_type": "code",
   "execution_count": null,
   "metadata": {},
   "outputs": [],
   "source": [
    "frame1 = cv.imread('testing/_C1.png')\n",
    "frame2 = cv.imread('testing/_C2.png')"
   ]
  },
  {
   "cell_type": "code",
   "execution_count": null,
   "metadata": {},
   "outputs": [],
   "source": [
    "plt.imshow(frame1[:,:,[2,1,0]])\n",
    "plt.scatter(uvs1[:,0], uvs1[:,1])\n",
    "plt.show()\n",
    " \n",
    "plt.imshow(frame2[:,:,[2,1,0]])\n",
    "plt.scatter(uvs2[:,0], uvs2[:,1])\n",
    "plt.show()"
   ]
  }
 ],
 "metadata": {
  "kernelspec": {
   "display_name": "detectron_env",
   "language": "python",
   "name": "python3"
  },
  "language_info": {
   "codemirror_mode": {
    "name": "ipython",
    "version": 3
   },
   "file_extension": ".py",
   "mimetype": "text/x-python",
   "name": "python",
   "nbconvert_exporter": "python",
   "pygments_lexer": "ipython3",
   "version": "3.8.15"
  },
  "orig_nbformat": 4,
  "vscode": {
   "interpreter": {
    "hash": "44ee9c52a03924fb821a4ca7cb273a96d56031a2b17aeb6c46b0e17d8e92b26b"
   }
  }
 },
 "nbformat": 4,
 "nbformat_minor": 2
}
